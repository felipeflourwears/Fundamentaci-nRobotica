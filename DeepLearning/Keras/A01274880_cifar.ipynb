{
  "nbformat": 4,
  "nbformat_minor": 0,
  "metadata": {
    "kernelspec": {
      "name": "python3",
      "display_name": "Python 3.8.5 64-bit ('ai': conda)"
    },
    "language_info": {
      "codemirror_mode": {
        "name": "ipython",
        "version": 3
      },
      "file_extension": ".py",
      "mimetype": "text/x-python",
      "name": "python",
      "nbconvert_exporter": "python",
      "pygments_lexer": "ipython3",
      "version": "3.8.5"
    },
    "colab": {
      "name": "A01274880_cifar.ipynb",
      "provenance": [],
      "collapsed_sections": []
    },
    "interpreter": {
      "hash": "c633da67cca8c9012768cec5592dfea837eb018155654bdd63f161c159c521d5"
    },
    "accelerator": "GPU"
  },
  "cells": [
    {
      "cell_type": "markdown",
      "metadata": {
        "id": "eVCR_J6F6Tvs"
      },
      "source": [
        "# Deep learning steps"
      ]
    },
    {
      "cell_type": "markdown",
      "metadata": {
        "id": "-7nflKCE6Tvv"
      },
      "source": [
        "#### Gather the dataset\n",
        "\n",
        "The first component of building a deep learning network is to gather our initial dataset. We need the data itself as well as the labels associated with each data point. These labels should come from a finite set of categories, such as: categories = dog, cat, panda.\n",
        "\n",
        "#### Split Your Dataset \n",
        "\n",
        "Now that we have our initial dataset, we need to split it into two parts: 1. A training set 2. A testing set A training set is used by our classifier to “learn” what each category looks like by making predictions on the input data and then correct itself when predictions are wrong. After the classifier has been trained, we can evaluate the performing on a testing set. Here are some common data splits:\n",
        "\n",
        "![data splits](https://github.com/octavio-navarro/DL-Course-Material/blob/master/Notebooks/images/test_train_split.png?raw=1)\n",
        "\n",
        "You should create a third data split called the validation set. This set of the data (normally) comes from the training data and is used as “fake test data” to tune the hyperparameters. Only after have we determined the hyperparameter values using the validation set do we move on to collecting final accuracy results in the testing data. We normally allocate roughly 10-20% of the training data for validation.\n",
        "\n",
        "#### Train the network\n",
        "\n",
        "Given our training set of images, we can now train our network. The goal here is for our network to learn how to recognize each of the categories in our labeled data. When the model makes a mistake, it learns from this mistake and improves itself.\n",
        "\n",
        "#### Evaluate\n",
        "\n",
        "Last, we need to evaluate our trained network. For each of the data in our testing set, we present them to the network and ask it to predict what it thinks the label of the data is. These model predictions are compared to the ground-truth labels from our testing set. The ground-truth labels represent what the data category actually is. From there, we can compute the number of predictions our classifier got correct and compute aggregate reports such as precision."
      ]
    },
    {
      "cell_type": "markdown",
      "metadata": {
        "id": "0NUTBggq6Tvw"
      },
      "source": [
        "# Keras\n",
        "\n",
        "Keras is a high-level neural networks API, written in Python and capable of running on top of TensorFlow, CNTK, or Theano. It was developed with a focus on enabling fast experimentation.\n",
        "\n",
        "Keras allows:\n",
        "\n",
        "1. Allows for easy and fast prototyping (through user friendliness, modularity, and extensibility).\n",
        "2. Supports both convolutional networks and recurrent networks, as well as combinations of the two.\n",
        "3. Runs seamlessly on CPU and GPU."
      ]
    },
    {
      "cell_type": "markdown",
      "metadata": {
        "id": "xc6_6lVm6Tvx"
      },
      "source": [
        "# Mnist with Keras"
      ]
    },
    {
      "cell_type": "markdown",
      "metadata": {
        "id": "y0jQFA_M6Tvx"
      },
      "source": [
        "#### Import dependencies"
      ]
    },
    {
      "cell_type": "code",
      "metadata": {
        "colab": {
          "base_uri": "https://localhost:8080/"
        },
        "id": "MYLA9Mg96Tvx",
        "outputId": "5870b93f-6475-4145-ba34-7717c9e6026e"
      },
      "source": [
        "import tensorflow as tf\n",
        "\n",
        "from tensorflow.keras import models, layers \n",
        "\n",
        "from tensorflow.keras.utils import to_categorical \n",
        "\n",
        "#from tensorflow.keras.datasets import mnist\n",
        "from tensorflow.keras.datasets import cifar10\n",
        "\n",
        "import numpy as np\n",
        "import matplotlib.pyplot as plt\n",
        "\n",
        "print(f\"Tensforflow version:{tf.__version__}\")\n",
        "print(f\"Keras version:{tf.keras.__version__}\")"
      ],
      "execution_count": 1,
      "outputs": [
        {
          "output_type": "stream",
          "name": "stdout",
          "text": [
            "Tensforflow version:2.8.0\n",
            "Keras version:2.8.0\n"
          ]
        }
      ]
    },
    {
      "cell_type": "code",
      "source": [
        "#Cargar data set de CIFAR\n",
        "#tf.keras.datasets.cifar10.load_data()"
      ],
      "metadata": {
        "id": "gVvP4RvjHtiX"
      },
      "execution_count": 9,
      "outputs": []
    },
    {
      "cell_type": "code",
      "source": [
        "(x_train, y_train), (x_test, y_test) = tf.keras.datasets.cifar10.load_data()"
      ],
      "metadata": {
        "id": "KDM_KiriIUoC"
      },
      "execution_count": 10,
      "outputs": []
    },
    {
      "cell_type": "markdown",
      "metadata": {
        "id": "2rFtlZws6Tvy"
      },
      "source": [
        "#### Load and standardize the data set"
      ]
    },
    {
      "cell_type": "code",
      "metadata": {
        "colab": {
          "base_uri": "https://localhost:8080/"
        },
        "id": "cn4KkplZ6Tvz",
        "outputId": "0bb7f7fc-952f-4f7b-f842-225911332566"
      },
      "source": [
        "# load the data, and separate it into train and test sets\n",
        "(train_images, train_labels), (test_images, test_labels) = tf.keras.datasets.cifar10.load_data()\n",
        "\n",
        "\"\"\"\n",
        "print(len(train_images))\n",
        "print(len(test_images))\n",
        "print(len(train_labels), train_labels.shape)\n",
        "print(train_labels[:10])\n",
        "\"\"\"\n",
        "# Standardize the data\n",
        "print(\"Before\")\n",
        "print(f'Train images shape: {train_images.shape}')\n",
        "print(f'Train test images shape: {test_images.shape}')\n",
        "\n",
        "\n",
        "# flatten arrays -->Pasarme a un vector  a una lista después del flatten\n",
        "train_images = train_images.reshape((50000, 32 * 32* 3))\n",
        "print('After')\n",
        "print(f'Train images shape: {train_images.shape}')\n",
        "\n",
        "\n",
        "\n",
        "# turn values from 0-255 to 0-1\n",
        "train_images = train_images.astype('float32') / 255 \n",
        "\n",
        "# same starndadization for the test images\n",
        "test_images = test_images.reshape((10000, 32 * 32*3)) \n",
        "test_images = test_images.astype('float32') / 255\n",
        "\n",
        "print(f'Train test shape: {test_images.shape}')\n",
        "# # one hot encoding\n",
        "train_labels = to_categorical(train_labels) \n",
        "test_labels = to_categorical(test_labels)\n",
        "\n",
        "print(train_labels[:10])"
      ],
      "execution_count": 11,
      "outputs": [
        {
          "output_type": "stream",
          "name": "stdout",
          "text": [
            "Before\n",
            "Train images shape: (50000, 32, 32, 3)\n",
            "Train test images shape: (10000, 32, 32, 3)\n",
            "After\n",
            "Train images shape: (50000, 3072)\n",
            "Train test shape: (10000, 3072)\n",
            "[[0. 0. 0. 0. 0. 0. 1. 0. 0. 0.]\n",
            " [0. 0. 0. 0. 0. 0. 0. 0. 0. 1.]\n",
            " [0. 0. 0. 0. 0. 0. 0. 0. 0. 1.]\n",
            " [0. 0. 0. 0. 1. 0. 0. 0. 0. 0.]\n",
            " [0. 1. 0. 0. 0. 0. 0. 0. 0. 0.]\n",
            " [0. 1. 0. 0. 0. 0. 0. 0. 0. 0.]\n",
            " [0. 0. 1. 0. 0. 0. 0. 0. 0. 0.]\n",
            " [0. 0. 0. 0. 0. 0. 0. 1. 0. 0.]\n",
            " [0. 0. 0. 0. 0. 0. 0. 0. 1. 0.]\n",
            " [0. 0. 0. 1. 0. 0. 0. 0. 0. 0.]]\n"
          ]
        }
      ]
    },
    {
      "cell_type": "markdown",
      "metadata": {
        "id": "OGr2fmIh6Tvz"
      },
      "source": [
        "#### Create and compile the model"
      ]
    },
    {
      "cell_type": "code",
      "metadata": {
        "colab": {
          "base_uri": "https://localhost:8080/"
        },
        "id": "vf2HwoJe6Tv0",
        "outputId": "607f0d38-b035-41ca-adb7-1f8e101f942c"
      },
      "source": [
        "# The keras.models.Sequential class is a wrapper for the neural network model that treats \n",
        "# the network as a sequence of layers\n",
        "network = models.Sequential()\n",
        "\n",
        "# Dense layers: fully connected layers\n",
        "network.add(layers.Dense(512, activation='relu', input_shape=(32 * 32*3,)))\n",
        "network.add(layers.Dense(256, activation='relu'))\n",
        "network.add(layers.Dense(128, activation='relu'))\n",
        "network.add(layers.Dense(10, activation='softmax'))\n",
        "\n",
        "# Once we have our model built, we need to compile it before it can be run. \n",
        "# Compiling the Keras model calls the backend (tensorflow, theano, etc.) and binds the optimizer, \n",
        "# loss function, and other parameters required before the model can be run on any input data.\n",
        "\n",
        "# loss function: basically, the error function. categorical crossentropy is one of many.\n",
        "\n",
        "\n",
        "# optimizer: this is the mechanism through which the network will update itself.\n",
        "# Stochastic Gradient descent (sgd) is one of those.\n",
        "\n",
        "# Metrics to monitor during training and testing. Here we will only care about accuracy.\n",
        "network.compile(optimizer='sgd', loss='categorical_crossentropy', metrics=['accuracy'])\n",
        "\n",
        "network.summary()"
      ],
      "execution_count": 12,
      "outputs": [
        {
          "output_type": "stream",
          "name": "stdout",
          "text": [
            "Model: \"sequential_1\"\n",
            "_________________________________________________________________\n",
            " Layer (type)                Output Shape              Param #   \n",
            "=================================================================\n",
            " dense_4 (Dense)             (None, 512)               1573376   \n",
            "                                                                 \n",
            " dense_5 (Dense)             (None, 256)               131328    \n",
            "                                                                 \n",
            " dense_6 (Dense)             (None, 128)               32896     \n",
            "                                                                 \n",
            " dense_7 (Dense)             (None, 10)                1290      \n",
            "                                                                 \n",
            "=================================================================\n",
            "Total params: 1,738,890\n",
            "Trainable params: 1,738,890\n",
            "Non-trainable params: 0\n",
            "_________________________________________________________________\n"
          ]
        }
      ]
    },
    {
      "cell_type": "markdown",
      "metadata": {
        "id": "9WXt98Za6Tv0"
      },
      "source": [
        "#### Train the model\n",
        "\n",
        "The model is trained with the fit() method, through the following command that specifies the number of training epochs and the message level (how much information we want displayed on the screen during training)."
      ]
    },
    {
      "cell_type": "code",
      "metadata": {
        "colab": {
          "base_uri": "https://localhost:8080/"
        },
        "id": "bPXWo-wu6Tv1",
        "outputId": "a00e01dd-5b9d-44d4-94db-d3b2f719edc5"
      },
      "source": [
        "network.fit(train_images, train_labels, epochs=50)\n",
        "#network.fit(train_images, train_labels, epochs=50,validation_split=0.2)\n",
        "\n",
        "test_loss, test_acc = network.evaluate(test_images, test_labels)\n",
        "\n",
        "print(\"test loss: \", test_loss, \"test accuracy: \", test_acc)"
      ],
      "execution_count": 13,
      "outputs": [
        {
          "output_type": "stream",
          "name": "stdout",
          "text": [
            "Epoch 1/50\n",
            "1563/1563 [==============================] - 5s 3ms/step - loss: 1.8636 - accuracy: 0.3312\n",
            "Epoch 2/50\n",
            "1563/1563 [==============================] - 4s 3ms/step - loss: 1.6764 - accuracy: 0.4051\n",
            "Epoch 3/50\n",
            "1563/1563 [==============================] - 4s 3ms/step - loss: 1.5893 - accuracy: 0.4347\n",
            "Epoch 4/50\n",
            "1563/1563 [==============================] - 5s 3ms/step - loss: 1.5277 - accuracy: 0.4556\n",
            "Epoch 5/50\n",
            "1563/1563 [==============================] - 5s 3ms/step - loss: 1.4780 - accuracy: 0.4735\n",
            "Epoch 6/50\n",
            "1563/1563 [==============================] - 5s 3ms/step - loss: 1.4385 - accuracy: 0.4897\n",
            "Epoch 7/50\n",
            "1563/1563 [==============================] - 4s 3ms/step - loss: 1.4057 - accuracy: 0.4998\n",
            "Epoch 8/50\n",
            "1563/1563 [==============================] - 4s 3ms/step - loss: 1.3726 - accuracy: 0.5119\n",
            "Epoch 9/50\n",
            "1563/1563 [==============================] - 4s 3ms/step - loss: 1.3441 - accuracy: 0.5217\n",
            "Epoch 10/50\n",
            "1563/1563 [==============================] - 5s 3ms/step - loss: 1.3175 - accuracy: 0.5332\n",
            "Epoch 11/50\n",
            "1563/1563 [==============================] - 4s 3ms/step - loss: 1.2899 - accuracy: 0.5400\n",
            "Epoch 12/50\n",
            "1563/1563 [==============================] - 5s 3ms/step - loss: 1.2650 - accuracy: 0.5532\n",
            "Epoch 13/50\n",
            "1563/1563 [==============================] - 4s 3ms/step - loss: 1.2443 - accuracy: 0.5608\n",
            "Epoch 14/50\n",
            "1563/1563 [==============================] - 4s 3ms/step - loss: 1.2193 - accuracy: 0.5669\n",
            "Epoch 15/50\n",
            "1563/1563 [==============================] - 4s 3ms/step - loss: 1.1963 - accuracy: 0.5760\n",
            "Epoch 16/50\n",
            "1563/1563 [==============================] - 4s 3ms/step - loss: 1.1724 - accuracy: 0.5860\n",
            "Epoch 17/50\n",
            "1563/1563 [==============================] - 4s 3ms/step - loss: 1.1545 - accuracy: 0.5899\n",
            "Epoch 18/50\n",
            "1563/1563 [==============================] - 5s 3ms/step - loss: 1.1316 - accuracy: 0.5995\n",
            "Epoch 19/50\n",
            "1563/1563 [==============================] - 5s 3ms/step - loss: 1.1098 - accuracy: 0.6057\n",
            "Epoch 20/50\n",
            "1563/1563 [==============================] - 5s 3ms/step - loss: 1.0911 - accuracy: 0.6122\n",
            "Epoch 21/50\n",
            "1563/1563 [==============================] - 4s 3ms/step - loss: 1.0708 - accuracy: 0.6184\n",
            "Epoch 22/50\n",
            "1563/1563 [==============================] - 4s 3ms/step - loss: 1.0506 - accuracy: 0.6274\n",
            "Epoch 23/50\n",
            "1563/1563 [==============================] - 4s 3ms/step - loss: 1.0323 - accuracy: 0.6339\n",
            "Epoch 24/50\n",
            "1563/1563 [==============================] - 4s 3ms/step - loss: 1.0081 - accuracy: 0.6397\n",
            "Epoch 25/50\n",
            "1563/1563 [==============================] - 4s 3ms/step - loss: 0.9938 - accuracy: 0.6476\n",
            "Epoch 26/50\n",
            "1563/1563 [==============================] - 5s 3ms/step - loss: 0.9721 - accuracy: 0.6558\n",
            "Epoch 27/50\n",
            "1563/1563 [==============================] - 4s 3ms/step - loss: 0.9527 - accuracy: 0.6636\n",
            "Epoch 28/50\n",
            "1563/1563 [==============================] - 5s 3ms/step - loss: 0.9327 - accuracy: 0.6683\n",
            "Epoch 29/50\n",
            "1563/1563 [==============================] - 5s 3ms/step - loss: 0.9133 - accuracy: 0.6762\n",
            "Epoch 30/50\n",
            "1563/1563 [==============================] - 5s 3ms/step - loss: 0.8912 - accuracy: 0.6851\n",
            "Epoch 31/50\n",
            "1563/1563 [==============================] - 5s 3ms/step - loss: 0.8729 - accuracy: 0.6887\n",
            "Epoch 32/50\n",
            "1563/1563 [==============================] - 4s 3ms/step - loss: 0.8581 - accuracy: 0.6927\n",
            "Epoch 33/50\n",
            "1563/1563 [==============================] - 7s 4ms/step - loss: 0.8395 - accuracy: 0.6989\n",
            "Epoch 34/50\n",
            "1563/1563 [==============================] - 5s 3ms/step - loss: 0.8202 - accuracy: 0.7075\n",
            "Epoch 35/50\n",
            "1563/1563 [==============================] - 5s 3ms/step - loss: 0.7989 - accuracy: 0.7157\n",
            "Epoch 36/50\n",
            "1563/1563 [==============================] - 5s 3ms/step - loss: 0.7833 - accuracy: 0.7222\n",
            "Epoch 37/50\n",
            "1563/1563 [==============================] - 4s 3ms/step - loss: 0.7630 - accuracy: 0.7306\n",
            "Epoch 38/50\n",
            "1563/1563 [==============================] - 4s 3ms/step - loss: 0.7427 - accuracy: 0.7352\n",
            "Epoch 39/50\n",
            "1563/1563 [==============================] - 5s 3ms/step - loss: 0.7277 - accuracy: 0.7409\n",
            "Epoch 40/50\n",
            "1563/1563 [==============================] - 5s 3ms/step - loss: 0.7086 - accuracy: 0.7480\n",
            "Epoch 41/50\n",
            "1563/1563 [==============================] - 4s 3ms/step - loss: 0.6919 - accuracy: 0.7539\n",
            "Epoch 42/50\n",
            "1563/1563 [==============================] - 5s 3ms/step - loss: 0.6710 - accuracy: 0.7659\n",
            "Epoch 43/50\n",
            "1563/1563 [==============================] - 5s 3ms/step - loss: 0.6564 - accuracy: 0.7692\n",
            "Epoch 44/50\n",
            "1563/1563 [==============================] - 5s 3ms/step - loss: 0.6334 - accuracy: 0.7755\n",
            "Epoch 45/50\n",
            "1563/1563 [==============================] - 4s 3ms/step - loss: 0.6209 - accuracy: 0.7803\n",
            "Epoch 46/50\n",
            "1563/1563 [==============================] - 5s 3ms/step - loss: 0.6061 - accuracy: 0.7835\n",
            "Epoch 47/50\n",
            "1563/1563 [==============================] - 5s 3ms/step - loss: 0.5836 - accuracy: 0.7930\n",
            "Epoch 48/50\n",
            "1563/1563 [==============================] - 4s 3ms/step - loss: 0.5723 - accuracy: 0.7969\n",
            "Epoch 49/50\n",
            "1563/1563 [==============================] - 4s 3ms/step - loss: 0.5576 - accuracy: 0.8031\n",
            "Epoch 50/50\n",
            "1563/1563 [==============================] - 5s 3ms/step - loss: 0.5394 - accuracy: 0.8089\n",
            "313/313 [==============================] - 1s 3ms/step - loss: 1.7105 - accuracy: 0.5353\n",
            "test loss:  1.7105015516281128 test accuracy:  0.5353000164031982\n"
          ]
        }
      ]
    },
    {
      "cell_type": "code",
      "metadata": {
        "scrolled": true,
        "colab": {
          "base_uri": "https://localhost:8080/",
          "height": 316
        },
        "id": "rLZ5bNAd6Tv1",
        "outputId": "c6705d27-c0da-4693-cc48-f561bb1cb9d3"
      },
      "source": [
        "# make a prediction on a specific image from the test data\n",
        "#test_index = 8\n",
        "import random\n",
        "test_index=random.randint(0, 10000)\n",
        "\n",
        "input_image = test_images[test_index].reshape(32*32*3)\n",
        "prediction = network.predict(np.array([input_image]))\n",
        "\n",
        "np.set_printoptions(precision=3, suppress= True)\n",
        "print(prediction, test_labels[test_index])\n",
        "\n",
        "plt.title(\"Label: \" + str(test_labels[test_index]))\n",
        "plt.imshow(test_images[test_index].reshape(32,32,3), cmap=\"gray\")\n",
        "#[0 ,1 ,2 ,3 ,4 ,5 ,6 ,7, 8, 9]"
      ],
      "execution_count": 38,
      "outputs": [
        {
          "output_type": "stream",
          "name": "stdout",
          "text": [
            "[[0.042 0.012 0.001 0.018 0.008 0.001 0.    0.914 0.001 0.003]] [0. 0. 0. 0. 0. 0. 0. 1. 0. 0.]\n"
          ]
        },
        {
          "output_type": "execute_result",
          "data": {
            "text/plain": [
              "<matplotlib.image.AxesImage at 0x7f5d528896d0>"
            ]
          },
          "metadata": {},
          "execution_count": 38
        },
        {
          "output_type": "display_data",
          "data": {
            "text/plain": [
              "<Figure size 432x288 with 1 Axes>"
            ],
            "image/png": "[encoded data removed]"
          },
          "metadata": {
            "needs_background": "light"
          }
        }
      ]
    }
  ]
}