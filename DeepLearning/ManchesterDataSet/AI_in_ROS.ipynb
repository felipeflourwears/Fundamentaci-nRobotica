{
  "cells": [
    {
      "cell_type": "code",
      "execution_count": null,
      "metadata": {
        "id": "_8W44vyaZUcd"
      },
      "outputs": [],
      "source": [
        "# Main requirements \n",
        "\n",
        "import tensorflow as tf\n",
        "import numpy as np\n",
        "import matplotlib.pyplot as plt\n",
        "from keras.utils.np_utils import to_categorical\n",
        "import cv2\n",
        "from sklearn.model_selection import train_test_split\n",
        "import os\n",
        "import pandas as pd\n",
        "import random\n",
        "from tensorflow.keras.preprocessing.image import ImageDataGenerator"
      ]
    },
    {
      "cell_type": "markdown",
      "metadata": {
        "id": "JTyDk_q9a7qq"
      },
      "source": [
        "BEG FUNTION DEF"
      ]
    },
    {
      "cell_type": "code",
      "execution_count": null,
      "metadata": {
        "id": "a55HfuchbBlJ"
      },
      "outputs": [],
      "source": [
        "def grayscale(img):\n",
        "    img = cv2.cvtColor(img,cv2.COLOR_BGR2GRAY)\n",
        "    return img\n",
        "def equalize(img):\n",
        "    img =cv2.equalizeHist(img)\n",
        "    return img\n",
        "def preprocessing(img):\n",
        "    img = grayscale(img)     # CONVERT TO GRAYSCALE\n",
        "    img = equalize(img)      # STANDARDIZE THE LIGHTING IN AN IMAGE\n",
        "    img = img/255            # TO NORMALIZE VALUES BETWEEN 0 AND 1 INSTEAD OF 0 TO 255\n",
        "    return img\n",
        "\n",
        "#Reshape"
      ]
    },
    {
      "cell_type": "code",
      "execution_count": null,
      "metadata": {
        "id": "Uap38SeXbVU8"
      },
      "outputs": [],
      "source": [
        "def myModel():\n",
        "    # Hyperparameter selection                                                                                                                                                                                                                   \n",
        "    # Filters of the CNN                                                                                                                                                                                                         \n",
        "    no_Of_Filters=60                                                                                                                                                                                                             \n",
        "    # Shape of the filters used in the CNN                                                                                                                                                                                       \n",
        "    size_of_Filter=(5,5)                                                                                                                                                                                                         \n",
        "    size_of_Filter2=(3,3)                                                                                                                                                                                                        \n",
        "    # Tekes batches of 2x2 pixels and avg the                                                                                                                                                                                    \n",
        "    size_of_pool=(2,2)                                                                                                                                                                                                           \n",
        "    # Nodes of the neural classifier                                                                                                                                                                                             \n",
        "    no_Of_Nodes = 500                                                                                                                                                                                                            \n",
        "                                                                                                                                                                                                                                 \n",
        "    # TODO: Add layers as presented in the class to conform your CNN                                                                                                                                                                                                                              \n",
        "                                                                                                                                                                           \n",
        "    model.compile(optimizer=tf.keras.optimizers.RMSprop(),                                                                                                                                                                       \n",
        "              loss=tf.keras.losses.BinaryCrossentropy(),                                                                                                                                                                         \n",
        "              metrics=[tf.keras.metrics.BinaryAccuracy(),                                                                                                                                                                        \n",
        "                       tf.keras.metrics.FalseNegatives()])                                                                                                                                                                       \n",
        "                                                                                                                                                                                                                                 \n",
        "    return model                                                                                                                                                                                                                 "
      ]
    },
    {
      "cell_type": "markdown",
      "metadata": {
        "id": "oG2ZROdFa-6p"
      },
      "source": [
        "\n",
        "\n",
        "END FUNTION DEF\n"
      ]
    },
    {
      "cell_type": "code",
      "execution_count": null,
      "metadata": {
        "id": "1r_cr0nHmclS",
        "colab": {
          "base_uri": "https://localhost:8080/"
        },
        "outputId": "c747c3ba-c369-4c02-bb23-36835e7e731c"
      },
      "outputs": [
        {
          "output_type": "stream",
          "name": "stdout",
          "text": [
            "Mounted at /content/drive\n"
          ]
        }
      ],
      "source": [
        "from google.colab import drive\n",
        "drive.mount('/content/drive')"
      ]
    },
    {
      "cell_type": "code",
      "execution_count": null,
      "metadata": {
        "id": "kmxNwbREagzL"
      },
      "outputs": [],
      "source": [
        "################# Parameters #####################\n",
        "tf.config.set_visible_devices([], 'GPU')\n",
        "\n",
        "path = \"drive/Shareddrives/TE3002B/AI_in_ROS/MyData\" # folder with all the class folders\n",
        "labelFile = 'drive/Shareddrives/TE3002B/AI_in_ROS/labels.csv' # file with all names of classes\n",
        "batch_size_val=50  # how many to process together before updating the interanl parameters\n",
        "steps_per_epoch_val=100 # we divide all our database in 10 bathces \n",
        "epochs_val=10\n",
        "imageDimesions = (32,32,3)\n",
        "testRatio = 0.2    # if 1000 images split will 200 for testing\n",
        "validationRatio = 0.2 # if 1000 images 20% of remaining 800 will be 160 for validation\n",
        "###################################################"
      ]
    },
    {
      "cell_type": "code",
      "execution_count": null,
      "metadata": {
        "id": "mZUYQZ8bai10"
      },
      "outputs": [],
      "source": [
        "############################### Importing of the Images\n",
        "count = 0\n",
        "images = []\n",
        "classNo = []\n",
        "myList = os.listdir(path)\n",
        "print(\"Total Classes Detected:\",len(myList))\n",
        "noOfClasses=len(myList)\n",
        "print(\"Importing Classes.....\")\n",
        "\n",
        "#Import names\n",
        "for x in range (0,len(myList)):\n",
        "    myPicList = os.listdir(path+\"/\"+str(count))\n",
        "    for y in myPicList:\n",
        "        curImg = cv2.imread(path+\"/\"+str(count)+\"/\"+y)\n",
        "        images.append(curImg)\n",
        "        classNo.append(count)\n",
        "    print(\"{0} of {1}\".format(count, len(myList)), end =\"\\n\")\n",
        "    count +=1\n",
        "print(\" \")\n",
        "images = np.array(images)\n",
        "classNo = np.array(classNo)"
      ]
    },
    {
      "cell_type": "code",
      "execution_count": null,
      "metadata": {
        "id": "OzgYO4j7al5Z"
      },
      "outputs": [],
      "source": [
        "############################### Split Data\n",
        "X_train, X_test, y_train, y_test = train_test_split(images, classNo, test_size=testRatio)\n",
        "X_train, X_validation, y_train, y_validation = train_test_split(X_train, y_train, test_size=validationRatio)\n",
        " \n",
        "# X_train = ARRAY OF IMAGES TO TRAIN\n",
        "# y_train = CORRESPONDING CLASS ID"
      ]
    },
    {
      "cell_type": "code",
      "execution_count": null,
      "metadata": {
        "id": "PsP8ythkas1p",
        "colab": {
          "base_uri": "https://localhost:8080/"
        },
        "outputId": "e8e807ad-62ac-4df8-bd18-f38788814fa0"
      },
      "outputs": [
        {
          "output_type": "stream",
          "name": "stdout",
          "text": [
            "data shape  (43, 2) <class 'pandas.core.frame.DataFrame'>\n",
            "17076\n",
            "5337\n",
            "43 2\n"
          ]
        }
      ],
      "source": [
        "############################### READ CSV FILE\n",
        "data=pd.read_csv(labelFile)\n",
        "print(\"data shape \",data.shape,type(data))\n",
        "\n",
        "###################################################3LF\n",
        "print(len(X_train))\n",
        "print(len(X_test))\n",
        "#print(len(label_file), label_file.shape)\n",
        "#print(label_file[:10])\n",
        "#####\n",
        "H,W=data.shape\n",
        "print(H,W)\n",
        "#data = data.reshape((17076, 55 * 57 *3))\n",
        "#data = data.astype('float32') / 255)\n"
      ]
    },
    {
      "cell_type": "code",
      "execution_count": null,
      "metadata": {
        "id": "-53lOEjlavpG"
      },
      "outputs": [],
      "source": [
        "############################### DISPLAY SOME SAMPLES IMAGES  OF ALL THE CLASSES\n",
        "num_of_samples = []\n",
        "cols = 5\n",
        "num_classes = noOfClasses\n",
        "fig, axs = plt.subplots(nrows=num_classes, ncols=cols, figsize=(5, 300))\n",
        "fig.tight_layout()\n",
        "for i in range(cols):\n",
        "    for j,row in data.iterrows():\n",
        "        x_selected = X_train[y_train == j]\n",
        "        axs[j][i].imshow(x_selected[random.randint(0, len(x_selected)- 1)], cmap=plt.get_cmap(\"gray\"))\n",
        "        axs[j][i].axis(\"off\")\n",
        "        if i == 2:\n",
        "            axs[j][i].set_title(str(j)+ \"-\"+row[\"Name\"])\n",
        "            num_of_samples.append(len(x_selected))"
      ]
    },
    {
      "cell_type": "code",
      "execution_count": null,
      "metadata": {
        "id": "LqVzTDkbaxOl",
        "colab": {
          "base_uri": "https://localhost:8080/",
          "height": 332
        },
        "outputId": "7e92c123-4a07-4830-d1a5-ab7ff8a2d88b"
      },
      "outputs": [
        {
          "output_type": "stream",
          "name": "stdout",
          "text": [
            "[105, 965, 946, 625, 840, 819, 190, 612, 604, 644, 846, 554, 894, 933, 353, 263, 200, 481, 499, 102, 143, 146, 164, 237, 114, 643, 266, 119, 236, 114, 194, 357, 125, 314, 192, 534, 171, 101, 905, 137, 153, 116, 120]\n"
          ]
        },
        {
          "output_type": "display_data",
          "data": {
            "text/plain": [
              "<Figure size 864x288 with 1 Axes>"
            ],
            "image/png": "[encoded data removed]"
          },
          "metadata": {
            "needs_background": "light"
          }
        }
      ],
      "source": [
        "############################### DISPLAY A BAR CHART SHOWING NO OF SAMPLES FOR EACH CATEGORY\n",
        "print(num_of_samples)\n",
        "plt.figure(figsize=(12, 4))\n",
        "plt.bar(range(0, num_classes), num_of_samples)\n",
        "plt.title(\"Distribution of the training dataset\")\n",
        "plt.xlabel(\"Class number\")\n",
        "plt.ylabel(\"Number of images\")\n",
        "plt.show()\n",
        " "
      ]
    },
    {
      "cell_type": "code",
      "source": [
        "X_train, X_test, y_train, y_test = train_test_split(images, classNo, test_size=testRatio)\n",
        "X_train, X_validation, y_train, y_validation = train_test_split(X_train, y_train, test_size=validationRatio)"
      ],
      "metadata": {
        "id": "QXPNW2TrJ7kN"
      },
      "execution_count": null,
      "outputs": []
    },
    {
      "cell_type": "code",
      "execution_count": null,
      "metadata": {
        "id": "YCArJGJluwZQ",
        "colab": {
          "base_uri": "https://localhost:8080/"
        },
        "outputId": "8b1cd264-3dab-424c-bdc5-0dd1d0add931"
      },
      "outputs": [
        {
          "output_type": "stream",
          "name": "stdout",
          "text": [
            "Before\n",
            "Len X_train:  17076\n",
            "X_train[1]:  (44, 43, 3)\n",
            "X_train shape: (17076,)\n",
            "y_train shape: (17076,)\n",
            "X_test shape: (5337,)\n",
            "y_test shape: (5337,)\n",
            "#####################################################\n",
            "#####################################################\n",
            "Tipo1 <class 'numpy.ndarray'>\n",
            "Tipo1 <class 'numpy.ndarray'>\n",
            "After\n",
            "X_trainp:  17049\n",
            "y_trainp:  17049\n",
            "X_testp:  5328\n",
            "y_testp:  5328\n"
          ]
        }
      ],
      "source": [
        "from tensorflow.core.framework.types_pb2 import DataType\n",
        "############################### Split Data\n",
        "\n",
        " \n",
        "# X_train = ARRAY OF IMAGES TO TRAIN\n",
        "# y_train = CORRESPONDING CLASS ID\n",
        "\n",
        "# TODO: Adapt the X_train, X_test, X_validation, y_train, y_test and y_validation arrays for the proper neural network training, validation and testing\n",
        "#lf\n",
        "\n",
        "\n",
        "print(\"Before\")\n",
        "print(\"Len X_train: \",len(X_train))\n",
        "print(\"X_train[1]: \",X_train[1].shape)\n",
        "#print(\"y_train[1]: \",y_train.shape)\n",
        "print(f'X_train shape: {X_train.shape}')\n",
        "print(f'y_train shape: {y_train.shape}')\n",
        "print(f'X_test shape: {X_test.shape}')\n",
        "print(f'y_test shape: {y_test.shape}')\n",
        "\n",
        "print(\"#####################################################\")\n",
        "\n",
        "X_trainp=[]\n",
        "X_testp=[]\n",
        "y_trainp=[]\n",
        "y_testp=[]\n",
        "\n",
        "print(\"#####################################################\")\n",
        "\n",
        "tipo=type(X_train[1])\n",
        "tipo2=type(X_test[1])\n",
        "print(\"Tipo1\", tipo)\n",
        "print(\"Tipo1\", tipo2)\n",
        "\n",
        "\n",
        "\n",
        "for i in range(len(X_train)):\n",
        "  img=X_train[i]\n",
        "  label=y_train[i]\n",
        "  if tipo== type(img):\n",
        "    imagep=preprocessing(img)\n",
        "    resized_image = cv2.resize(imagep, (32, 32))\n",
        "    X_trainp.append(resized_image)\n",
        "    y_trainp.append(label)\n",
        "\n",
        "for i in range(len(X_test)):\n",
        "  img2=X_test[i]\n",
        "  label2=y_test[i]\n",
        "  if tipo2== type(img2):\n",
        "    imagep2=preprocessing(img2)\n",
        "    resized_image2 = cv2.resize(imagep2, (32, 32))\n",
        "    X_testp.append(resized_image2)\n",
        "    y_testp.append(label2)\n",
        "\n",
        "print(\"After\")\n",
        "print(\"X_trainp: \",len(X_trainp))\n",
        "print(\"y_trainp: \",len(y_trainp))\n",
        "print(\"X_testp: \",len(X_testp))\n",
        "print(\"y_testp: \",len(y_testp))\n",
        "\n",
        "\n",
        "\n",
        "\n",
        "\n"
      ]
    },
    {
      "cell_type": "code",
      "execution_count": null,
      "metadata": {
        "id": "e1OhhKC6aypP",
        "colab": {
          "base_uri": "https://localhost:8080/",
          "height": 358
        },
        "outputId": "f2950614-0151-4e1c-c735-62d8a197a3e0"
      },
      "outputs": [
        {
          "output_type": "error",
          "ename": "NameError",
          "evalue": "ignored",
          "traceback": [
            "\u001b[0;31m---------------------------------------------------------------------------\u001b[0m",
            "\u001b[0;31mNameError\u001b[0m                                 Traceback (most recent call last)",
            "\u001b[0;32m<ipython-input-267-3ef9a3ad8140>\u001b[0m in \u001b[0;36m<module>\u001b[0;34m()\u001b[0m\n\u001b[1;32m      1\u001b[0m \u001b[0;31m############################### TRAIN\u001b[0m\u001b[0;34m\u001b[0m\u001b[0;34m\u001b[0m\u001b[0;34m\u001b[0m\u001b[0m\n\u001b[1;32m      2\u001b[0m \u001b[0;31m# Create model structure\u001b[0m\u001b[0;34m\u001b[0m\u001b[0;34m\u001b[0m\u001b[0;34m\u001b[0m\u001b[0m\n\u001b[0;32m----> 3\u001b[0;31m \u001b[0mmodel\u001b[0m \u001b[0;34m=\u001b[0m \u001b[0mmyModel\u001b[0m\u001b[0;34m(\u001b[0m\u001b[0;34m)\u001b[0m\u001b[0;34m\u001b[0m\u001b[0;34m\u001b[0m\u001b[0m\n\u001b[0m\u001b[1;32m      4\u001b[0m \u001b[0mprint\u001b[0m\u001b[0;34m(\u001b[0m\u001b[0mmodel\u001b[0m\u001b[0;34m.\u001b[0m\u001b[0msummary\u001b[0m\u001b[0;34m(\u001b[0m\u001b[0;34m)\u001b[0m\u001b[0;34m)\u001b[0m\u001b[0;34m\u001b[0m\u001b[0;34m\u001b[0m\u001b[0m\n\u001b[1;32m      5\u001b[0m \u001b[0;31m# Train the model\u001b[0m\u001b[0;34m\u001b[0m\u001b[0;34m\u001b[0m\u001b[0;34m\u001b[0m\u001b[0m\n",
            "\u001b[0;32m<ipython-input-3-5dd92f3f009c>\u001b[0m in \u001b[0;36mmyModel\u001b[0;34m()\u001b[0m\n\u001b[1;32m     13\u001b[0m     \u001b[0;31m# TODO: Add layers as presented in the class to conform your CNN\u001b[0m\u001b[0;34m\u001b[0m\u001b[0;34m\u001b[0m\u001b[0;34m\u001b[0m\u001b[0m\n\u001b[1;32m     14\u001b[0m \u001b[0;34m\u001b[0m\u001b[0m\n\u001b[0;32m---> 15\u001b[0;31m     model.compile(optimizer=tf.keras.optimizers.RMSprop(),                                                                                                                                                                       \n\u001b[0m\u001b[1;32m     16\u001b[0m               \u001b[0mloss\u001b[0m\u001b[0;34m=\u001b[0m\u001b[0mtf\u001b[0m\u001b[0;34m.\u001b[0m\u001b[0mkeras\u001b[0m\u001b[0;34m.\u001b[0m\u001b[0mlosses\u001b[0m\u001b[0;34m.\u001b[0m\u001b[0mBinaryCrossentropy\u001b[0m\u001b[0;34m(\u001b[0m\u001b[0;34m)\u001b[0m\u001b[0;34m,\u001b[0m\u001b[0;34m\u001b[0m\u001b[0;34m\u001b[0m\u001b[0m\n\u001b[1;32m     17\u001b[0m               metrics=[tf.keras.metrics.BinaryAccuracy(),                                                                                                                                                                        \n",
            "\u001b[0;31mNameError\u001b[0m: name 'model' is not defined"
          ]
        }
      ],
      "source": [
        "############################### TRAIN\n",
        "# Create model structure\n",
        "model = myModel()\n",
        "\n",
        "print(model.summary())\n",
        "# Train the model\n",
        "\n",
        "# TODO: Modify the ImageDataGenerator attributes to improve your neural network performance if necessary\n",
        "dataGen = ImageDataGenerator()\n",
        "\n",
        "history=model.fit_generator(dataGen.flow(X_train,y_train,batch_size=batch_size_val),epochs=epochs_val,validation_data=(X_validation,y_validation),shuffle=1)\n",
        "model.save('drive/MyDrive/AI_in_ROS/saved_model/my_model')\n"
      ]
    },
    {
      "cell_type": "markdown",
      "metadata": {
        "id": "_dLaxoAhbyZZ"
      },
      "source": [
        "Results \n",
        "\n",
        "\n"
      ]
    },
    {
      "cell_type": "code",
      "execution_count": null,
      "metadata": {
        "id": "JMLtJ4FWb9_I"
      },
      "outputs": [],
      "source": [
        "############################### PLOT\n",
        "plt.figure()\n",
        "plt.plot(history.history['loss'])\n",
        "plt.plot(history.history['val_loss'])\n",
        "plt.legend(['training','validation'])\n",
        "plt.title('loss')\n",
        "plt.xlabel('epoch')\n",
        "plt.show()\n",
        "score =model.evaluate(X_test,y_test,verbose=0)\n",
        "print('Test Score:',score[0])\n",
        "print('Test Accuracy:',score[1])"
      ]
    },
    {
      "cell_type": "code",
      "execution_count": null,
      "metadata": {
        "id": "OI0jZExpuwZT"
      },
      "outputs": [],
      "source": [
        "model = load_model('drive/MyDrive/AI_in_ROS/saved_model/my_model')\n",
        "\n",
        "random_index = random.randint(0, len(images))\n",
        "test_image = images[random_index]\n",
        "\n",
        "test_image = preprocessing(test_image)\n",
        "test_image = cv2.resize(test_image, (imageDimesions[0], imageDimesions[1]))\n",
        "test_image = tf.expand_dims(test_image, axis=0)\n",
        "\n",
        "test_image_class =classNo[random_index]\n",
        "\n",
        "test_image_class_prediction = model.predict(test_image)\n",
        "\n",
        "class_val = np.argmax(test_image_class_prediction[0], axis=0)\n",
        "\n",
        "print(\"IMAGE CLASS: {0}\".format(test_image_class))\n",
        "print(\"IMAGE PREDICTION: {0}\".format(class_val))"
      ]
    },
    {
      "cell_type": "markdown",
      "metadata": {
        "id": "zLxyqrS0uwZU"
      },
      "source": [
        "The following code can be used to test the model with your USB camera. You'll have to port it into ROS "
      ]
    },
    {
      "cell_type": "code",
      "execution_count": null,
      "metadata": {
        "id": "V1OOPmnyecuG"
      },
      "outputs": [],
      "source": [
        "import tensorflow as tf\n",
        "from tensorflow.keras.models import load_model\n",
        "import numpy as np\n",
        "import cv2\n",
        "\n",
        "tf.config.set_visible_devices([], 'GPU')\n",
        " \n",
        "#############################################\n",
        " \n",
        "frameWidth= 640         # CAMERA RESOLUTION\n",
        "frameHeight = 480\n",
        "brightness = 180\n",
        "threshold = 0.75         # PROBABLITY THRESHOLD\n",
        "font = cv2.FONT_HERSHEY_SIMPLEX\n",
        "##############################################\n",
        " \n",
        "# SETUP THE VIDEO CAMERA\n",
        "cap = cv2.VideoCapture(0)\n",
        "cap.set(3, frameWidth)\n",
        "cap.set(4, frameHeight)\n",
        "cap.set(10, brightness)\n",
        "\n",
        "model = load_model('saved_model/my_model')\n",
        " \n",
        "def grayscale(img):\n",
        "    img = cv2.cvtColor(img,cv2.COLOR_BGR2GRAY)\n",
        "    return img\n",
        "def equalize(img):\n",
        "    img =cv2.equalizeHist(img)\n",
        "    return img\n",
        "def preprocessing(img):\n",
        "    img = grayscale(img)\n",
        "    img = equalize(img)\n",
        "    img = img/255\n",
        "    return img\n",
        "def getCalssName(classNo):\n",
        "    if   classNo == 0: return 'Speed Limit 20 km/h'\n",
        "    elif classNo == 1: return 'Speed Limit 30 km/h'\n",
        "    elif classNo == 2: return 'Speed Limit 50 km/h'\n",
        "    elif classNo == 3: return 'Speed Limit 60 km/h'\n",
        "    elif classNo == 4: return 'Speed Limit 70 km/h'\n",
        "    elif classNo == 5: return 'Speed Limit 80 km/h'\n",
        "    elif classNo == 6: return 'End of Speed Limit 80 km/h'\n",
        "    elif classNo == 7: return 'Speed Limit 100 km/h'\n",
        "    elif classNo == 8: return 'Speed Limit 120 km/h'\n",
        "    elif classNo == 9: return 'No passing'\n",
        "    elif classNo == 10: return 'No passing for vechiles over 3.5 metric tons'\n",
        "    elif classNo == 11: return 'Right-of-way at the next intersection'\n",
        "    elif classNo == 12: return 'Priority road'\n",
        "    elif classNo == 13: return 'Yield'\n",
        "    elif classNo == 14: return 'Stop'\n",
        "    elif classNo == 15: return 'No vechiles'\n",
        "    elif classNo == 16: return 'Vechiles over 3.5 metric tons prohibited'\n",
        "    elif classNo == 17: return 'No entry'\n",
        "    elif classNo == 18: return 'General caution'\n",
        "    elif classNo == 19: return 'Dangerous curve to the left'\n",
        "    elif classNo == 20: return 'Dangerous curve to the right'\n",
        "    elif classNo == 21: return 'Double curve'\n",
        "    elif classNo == 22: return 'Bumpy road'\n",
        "    elif classNo == 23: return 'Slippery road'\n",
        "    elif classNo == 24: return 'Road narrows on the right'\n",
        "    elif classNo == 25: return 'Road work'\n",
        "    elif classNo == 26: return 'Traffic signals'\n",
        "    elif classNo == 27: return 'Pedestrians'\n",
        "    elif classNo == 28: return 'Children crossing'\n",
        "    elif classNo == 29: return 'Bicycles crossing'\n",
        "    elif classNo == 30: return 'Beware of ice/snow'\n",
        "    elif classNo == 31: return 'Wild animals crossing'\n",
        "    elif classNo == 32: return 'End of all speed and passing limits'\n",
        "    elif classNo == 33: return 'Turn right ahead'\n",
        "    elif classNo == 34: return 'Turn left ahead'\n",
        "    elif classNo == 35: return 'Ahead only'\n",
        "    elif classNo == 36: return 'Go straight or right'\n",
        "    elif classNo == 37: return 'Go straight or left'\n",
        "    elif classNo == 38: return 'Keep right'\n",
        "    elif classNo == 39: return 'Keep left'\n",
        "    elif classNo == 40: return 'Roundabout mandatory'\n",
        "    elif classNo == 41: return 'End of no passing'\n",
        "    elif classNo == 42: return 'End of no passing by vechiles over 3.5 metric tons'\n",
        "     \n",
        "while True:\n",
        " \n",
        "    # READ IMAGE\n",
        "    success, imgOrignal = cap.read()\n",
        "         \n",
        "    # PROCESS IMAGE\n",
        "    img = np.asarray(imgOrignal)\n",
        "    img = cv2.resize(img, (32, 32))\n",
        "    img = preprocessing(img)\n",
        "\n",
        "    img = img.reshape(1, 32, 32, 1)\n",
        "    cv2.putText(imgOrignal, \"CLASS: \" , (20, 35), font, 0.75, (0, 0, 255), 2, cv2.LINE_AA)\n",
        "    cv2.putText(imgOrignal, \"PROBABILITY: \", (20, 75), font, 0.75, (0, 0, 255), 2, cv2.LINE_AA)\n",
        "    # PREDICT IMAGE\n",
        "    predictions = model.predict(img)\n",
        "    classIndex = model.predict_classes(img)\n",
        "    probabilityValue =np.amax(predictions)\n",
        "    if probabilityValue > threshold:\n",
        "       print(getCalssName(classIndex))\n",
        "       cv2.putText(imgOrignal,str(classIndex)+\" \"+str(getCalssName(classIndex)), (120, 35), font, 0.75, (0, 0, 255), 2, cv2.LINE_AA)\n",
        "       cv2.putText(imgOrignal, str(round(probabilityValue*100,2) )+\"%\", (180, 75), font, 0.75, (0, 0, 255), 2, cv2.LINE_AA)\n",
        "       cv2.imshow(\"Result\", imgOrignal)\n",
        "    else:\n",
        "        print('Not found')\n",
        "        cv2.putText(imgOrignal, 'No Traffic Sign', (120, 35), font, 0.75,\n",
        "                    (0, 0, 255), 2, cv2.LINE_AA)\n",
        "\n",
        "        cv2.imshow(\"Result\", imgOrignal)\n",
        "         \n",
        "    if cv2.waitKey(1) and 0xFF == ord('q'):\n",
        "       break"
      ]
    },
    {
      "cell_type": "code",
      "execution_count": null,
      "metadata": {
        "id": "eOSMi4YyVO8g"
      },
      "outputs": [],
      "source": [
        "from tensorflow.keras.models import load_model\n",
        "model = load_model('drive/MyDrive/AI_in_ROS/saved_model/my_model')\n",
        "print(model.summary())\n"
      ]
    }
  ],
  "metadata": {
    "colab": {
      "collapsed_sections": [],
      "name": "AI_in_ROS.ipynb",
      "provenance": []
    },
    "kernelspec": {
      "display_name": "Python 3",
      "name": "python3"
    },
    "language_info": {
      "name": "python"
    }
  },
  "nbformat": 4,
  "nbformat_minor": 0
}