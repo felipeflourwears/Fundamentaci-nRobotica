{
 "cells": [
  {
   "cell_type": "code",
   "execution_count": 2,
   "metadata": {},
   "outputs": [],
   "source": [
    "import numpy as np\n",
    "import cv2 \n",
    "import matplotlib.pyplot as plt"
   ]
  },
  {
   "cell_type": "code",
   "execution_count": 4,
   "metadata": {},
   "outputs": [],
   "source": [
    "# kernels de detección de bordes\n",
    "kernel = np.array([\n",
    "    [0,-1,0],\n",
    "    [-1,5,-1],\n",
    "    [0,-1,0]\n",
    "    ])\n",
    "def deteccionBordes(gray):\n",
    "    gray = cv2.GaussianBlur(gray,(5,5),0)\n",
    "    ori = cv2.filter2D(gray,-1,kernel)\n",
    "    complete = ori\n",
    "    return complete\n"
   ]
  },
  {
   "cell_type": "code",
   "execution_count": 5,
   "metadata": {},
   "outputs": [
    {
     "ename": "error",
     "evalue": "OpenCV(4.5.5) D:\\a\\opencv-python\\opencv-python\\opencv\\modules\\imgproc\\src\\smooth.dispatch.cpp:617: error: (-215:Assertion failed) !_src.empty() in function 'cv::GaussianBlur'\n",
     "output_type": "error",
     "traceback": [
      "\u001b[1;31m---------------------------------------------------------------------------\u001b[0m",
      "\u001b[1;31merror\u001b[0m                                     Traceback (most recent call last)",
      "\u001b[1;32mc:\\Users\\felip\\Downloads\\Semestre6\\GitPersonal\\OpenCV\\ROS\\prueba.ipynb Cell 3'\u001b[0m in \u001b[0;36m<module>\u001b[1;34m\u001b[0m\n\u001b[0;32m      <a href='vscode-notebook-cell:/c%3A/Users/felip/Downloads/Semestre6/GitPersonal/OpenCV/ROS/prueba.ipynb#ch0000002?line=0'>1</a>\u001b[0m imglf \u001b[39m=\u001b[39m cv2\u001b[39m.\u001b[39mimread(\u001b[39m\"\u001b[39m\u001b[39mlf.jpg\u001b[39m\u001b[39m\"\u001b[39m)\n\u001b[1;32m----> <a href='vscode-notebook-cell:/c%3A/Users/felip/Downloads/Semestre6/GitPersonal/OpenCV/ROS/prueba.ipynb#ch0000002?line=1'>2</a>\u001b[0m deteccionBordes(imglf)\n\u001b[0;32m      <a href='vscode-notebook-cell:/c%3A/Users/felip/Downloads/Semestre6/GitPersonal/OpenCV/ROS/prueba.ipynb#ch0000002?line=2'>3</a>\u001b[0m plt\u001b[39m.\u001b[39mfigure(figsize\u001b[39m=\u001b[39m(\u001b[39m40\u001b[39m,\u001b[39m40\u001b[39m))\n\u001b[0;32m      <a href='vscode-notebook-cell:/c%3A/Users/felip/Downloads/Semestre6/GitPersonal/OpenCV/ROS/prueba.ipynb#ch0000002?line=3'>4</a>\u001b[0m plt\u001b[39m.\u001b[39msubplot(\u001b[39m2\u001b[39m,\u001b[39m2\u001b[39m,\u001b[39m1\u001b[39m)\n",
      "\u001b[1;32mc:\\Users\\felip\\Downloads\\Semestre6\\GitPersonal\\OpenCV\\ROS\\prueba.ipynb Cell 2'\u001b[0m in \u001b[0;36mdeteccionBordes\u001b[1;34m(gray)\u001b[0m\n\u001b[0;32m      <a href='vscode-notebook-cell:/c%3A/Users/felip/Downloads/Semestre6/GitPersonal/OpenCV/ROS/prueba.ipynb#ch0000001?line=6'>7</a>\u001b[0m \u001b[39mdef\u001b[39;00m \u001b[39mdeteccionBordes\u001b[39m(gray):\n\u001b[1;32m----> <a href='vscode-notebook-cell:/c%3A/Users/felip/Downloads/Semestre6/GitPersonal/OpenCV/ROS/prueba.ipynb#ch0000001?line=7'>8</a>\u001b[0m     gray \u001b[39m=\u001b[39m cv2\u001b[39m.\u001b[39;49mGaussianBlur(gray,(\u001b[39m5\u001b[39;49m,\u001b[39m5\u001b[39;49m),\u001b[39m0\u001b[39;49m)\n\u001b[0;32m      <a href='vscode-notebook-cell:/c%3A/Users/felip/Downloads/Semestre6/GitPersonal/OpenCV/ROS/prueba.ipynb#ch0000001?line=8'>9</a>\u001b[0m     ori \u001b[39m=\u001b[39m cv2\u001b[39m.\u001b[39mfilter2D(gray,\u001b[39m-\u001b[39m\u001b[39m1\u001b[39m,kernel)\n\u001b[0;32m     <a href='vscode-notebook-cell:/c%3A/Users/felip/Downloads/Semestre6/GitPersonal/OpenCV/ROS/prueba.ipynb#ch0000001?line=9'>10</a>\u001b[0m     complete \u001b[39m=\u001b[39m ori\n",
      "\u001b[1;31merror\u001b[0m: OpenCV(4.5.5) D:\\a\\opencv-python\\opencv-python\\opencv\\modules\\imgproc\\src\\smooth.dispatch.cpp:617: error: (-215:Assertion failed) !_src.empty() in function 'cv::GaussianBlur'\n"
     ]
    }
   ],
   "source": [
    "imglf = cv2.imread(\"lf.jpg\")\n",
    "deteccionBordes(imglf)\n",
    "plt.figure(figsize=(40,40))\n",
    "plt.subplot(2,2,1)\n",
    "plt.imshow(imglf,cmap=\"gray\")"
   ]
  }
 ],
 "metadata": {
  "interpreter": {
   "hash": "4bc68a469b01165b4f1b96ba4c74cf4cecf434f30baa6573236f805da7a5679b"
  },
  "kernelspec": {
   "display_name": "Python 3.10.4 64-bit (windows store)",
   "language": "python",
   "name": "python3"
  },
  "language_info": {
   "codemirror_mode": {
    "name": "ipython",
    "version": 3
   },
   "file_extension": ".py",
   "mimetype": "text/x-python",
   "name": "python",
   "nbconvert_exporter": "python",
   "pygments_lexer": "ipython3",
   "version": "3.10.4"
  },
  "orig_nbformat": 4
 },
 "nbformat": 4,
 "nbformat_minor": 2
}
